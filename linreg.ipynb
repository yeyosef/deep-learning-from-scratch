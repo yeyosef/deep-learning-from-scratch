{
 "cells": [
  {
   "cell_type": "markdown",
   "id": "395f168f-65bf-468c-8de8-9a4df8d81185",
   "metadata": {},
   "source": [
    "# Linear Regression Implementatiton From Scratch\n",
    "\n",
    "To gain better understanding of how things work in deep learning, defining customized models and our own layers or loss functions is a great start."
   ]
  },
  {
   "cell_type": "markdown",
   "id": "0ad1699c-9356-4306-a5eb-094ea21638e7",
   "metadata": {},
   "source": [
    "## Generating the Dataset\n",
    "\n",
    "We will generate a dataset containing 1000 examples, each consist of 2 features sampled from standard normal distribution. \n",
    "\n",
    "$w = [2, -3.4]^T$ and $b = 4.2$, and $y = Xw + b + \\epsilon$"
   ]
  },
  {
   "cell_type": "code",
   "execution_count": 1,
   "id": "3453cce7-3632-41df-907d-45481e61b4da",
   "metadata": {},
   "outputs": [],
   "source": [
    "import matplotlib.pyplot as plt\n",
    "import random\n",
    "import tensorflow as tf"
   ]
  },
  {
   "cell_type": "code",
   "execution_count": 2,
   "id": "cc95e187-a458-4175-af3e-4ababe042f7f",
   "metadata": {},
   "outputs": [],
   "source": [
    "def synthetic_data(w, b, num_examples):  \n",
    "    \"\"\"Generate y = Xw + b + noise.\"\"\"\n",
    "    X = tf.zeros((num_examples, w.shape[0]))\n",
    "    X += tf.random.normal(shape=X.shape)\n",
    "    y = tf.matmul(X, tf.reshape(w, (-1, 1))) + b\n",
    "    y += tf.random.normal(shape=y.shape, stddev=0.01)\n",
    "    y = tf.reshape(y, (-1, 1))\n",
    "    return X, y\n",
    "\n",
    "true_w = tf.constant([2, -3.4])\n",
    "true_b = 4.2\n",
    "features, labels = synthetic_data(true_w, true_b, 1000)"
   ]
  },
  {
   "cell_type": "code",
   "execution_count": 3,
   "id": "7b224398-747b-469a-aecf-5f68b53b8b6e",
   "metadata": {},
   "outputs": [
    {
     "name": "stdout",
     "output_type": "stream",
     "text": [
      "features: tf.Tensor([-0.9947652   0.15375282], shape=(2,), dtype=float32) \n",
      "label: tf.Tensor([1.6741477], shape=(1,), dtype=float32)\n"
     ]
    }
   ],
   "source": [
    "print('features:', features[0],'\\nlabel:', labels[0])"
   ]
  },
  {
   "cell_type": "code",
   "execution_count": 4,
   "id": "9dc841d7-d85e-410d-bdab-8e3f2c7dde65",
   "metadata": {},
   "outputs": [
    {
     "data": {
      "image/png": "[encoded data removed]",
      "text/plain": [
       "<Figure size 432x288 with 1 Axes>"
      ]
     },
     "metadata": {
      "needs_background": "light"
     },
     "output_type": "display_data"
    }
   ],
   "source": [
    "plt.scatter(features[:, (1)].numpy(), labels.numpy(), 1);"
   ]
  },
  {
   "cell_type": "markdown",
   "id": "f20a4b8d-1bc0-4666-9fdf-c6c0db93377c",
   "metadata": {},
   "source": [
    "## Reading the Dataset \n",
    "\n",
    "Training models consist of grabbing one minibatch of examples at a time and using them to update our model so we can define a function that makes this."
   ]
  },
  {
   "cell_type": "code",
   "execution_count": 5,
   "id": "a96315c6-3949-4101-be28-49ba3ada0353",
   "metadata": {},
   "outputs": [],
   "source": [
    "def data_iter(batch_size, features, labels):\n",
    "    num_examples = len(features)\n",
    "    indices = list(range(num_examples))\n",
    "    # Examples should selected randomly\n",
    "    random.shuffle(indices)\n",
    "    for i in range(0, num_examples, batch_size):\n",
    "        j = tf.constant(indices[i: min(i + batch_size, num_examples)])\n",
    "        yield tf.gather(features, j), tf.gather(labels, j)"
   ]
  },
  {
   "cell_type": "code",
   "execution_count": 6,
   "id": "714c2d8d-cbd6-41e5-8c95-7fe1ef5f941b",
   "metadata": {},
   "outputs": [
    {
     "name": "stdout",
     "output_type": "stream",
     "text": [
      "tf.Tensor(\n",
      "[[-2.04113    -0.5002068 ]\n",
      " [-0.54543924  0.16806163]\n",
      " [-0.53188545 -0.9039335 ]\n",
      " [ 0.17010461  0.5023413 ]\n",
      " [ 1.45146     0.49659127]\n",
      " [-0.9423828  -1.3563963 ]\n",
      " [ 0.35496762 -1.4614922 ]\n",
      " [ 0.18052462 -1.0709414 ]\n",
      " [-0.21931699  0.8153265 ]\n",
      " [-0.23667188  0.50636363]], shape=(10, 2), dtype=float32) \n",
      " tf.Tensor(\n",
      "[[1.8138857]\n",
      " [2.529144 ]\n",
      " [6.2014346]\n",
      " [2.821955 ]\n",
      " [5.4242105]\n",
      " [6.9174685]\n",
      " [9.879992 ]\n",
      " [8.1907835]\n",
      " [0.9839223]\n",
      " [1.9898614]], shape=(10, 1), dtype=float32)\n"
     ]
    }
   ],
   "source": [
    "batch_size = 10\n",
    "\n",
    "for X, y in data_iter(batch_size, features, labels):\n",
    "    print(X, '\\n', y)\n",
    "    break"
   ]
  },
  {
   "cell_type": "markdown",
   "id": "f10a32fa-59db-4860-a59b-58afe681cb7b",
   "metadata": {},
   "source": [
    "## Initializing Model Parameters\n",
    "\n",
    "We initialize weights by sampling random numbers from a normal distribuiton with mean 0 and standard deviation of 0.01, and setting the bias to 0"
   ]
  },
  {
   "cell_type": "code",
   "execution_count": 7,
   "id": "91ff220a-5e82-49a0-bc00-929641523c30",
   "metadata": {},
   "outputs": [],
   "source": [
    "w = tf.Variable(tf.random.normal(shape = (2, 1), mean = 0, stddev = .01),\n",
    "               trainable = True)\n",
    "b = tf.Variable(tf.zeros(1), trainable = True)"
   ]
  },
  {
   "cell_type": "markdown",
   "id": "630bdadc-9e57-4349-9e6e-90de77aac25b",
   "metadata": {},
   "source": [
    "Now we need to update our parameters so that they fit our data well. Each update requires taking the gradient of our loss function with respect to the parameters. Given this gradient, we can update each parameter in the direction that may reduce the loss."
   ]
  },
  {
   "cell_type": "markdown",
   "id": "4f585cc0-91ae-4ee6-9d08-da4638a9ff62",
   "metadata": {},
   "source": [
    "## Defining the Model"
   ]
  },
  {
   "cell_type": "code",
   "execution_count": 8,
   "id": "e0b59710-8d92-4713-9fcb-45f9389c37ba",
   "metadata": {},
   "outputs": [],
   "source": [
    "def linreg(X, w, b):\n",
    "    \"\"\"The linear regression model.\"\"\"\n",
    "    return tf.matmul(X, w) + b"
   ]
  },
  {
   "cell_type": "markdown",
   "id": "db70c63b-1c47-4c07-9328-d52c9ad5070f",
   "metadata": {},
   "source": [
    "## Defining Loss Function\n",
    "\n",
    "We are going to use squared loss function."
   ]
  },
  {
   "cell_type": "code",
   "execution_count": 9,
   "id": "b8a553e8-fcb8-440d-b544-acede1f7d8c3",
   "metadata": {},
   "outputs": [],
   "source": [
    "def squared_loss(y_hat, y):\n",
    "    return (y_hat - tf.reshape(y, y_hat.shape)) ** 2 / 2"
   ]
  },
  {
   "cell_type": "markdown",
   "id": "f5a7b619-48d7-4e09-9644-a81591ce45db",
   "metadata": {},
   "source": [
    "## Defining the Optimization Algorithm\n",
    "\n",
    "We will use minibatch stochastic gradient descent.\n",
    "\n",
    "At each step, using one minibatch randomly drawn from our dataset, we will estimate the gradient of the loss with respect to our parameters. Next, we will update our parameters in the direction that may reduce the loss. The following code applies the minibatch stochastic gradient descent update, given a set of parameters, a learning rate, and a batch size. The size of the update step is determined by the learning rate lr. Because our loss is calculated as a sum over the minibatch of examples, we normalize our step size by the batch size (batch_size), so that the magnitude of a typical step size does not depend heavily on our choice of the batch size."
   ]
  },
  {
   "cell_type": "code",
   "execution_count": 10,
   "id": "6dff2cef-1fd9-42c1-bc69-c9bb8ffcdfb6",
   "metadata": {},
   "outputs": [],
   "source": [
    "def sgd(params, grads, lr, batch_size):\n",
    "    \"\"\"Minibatch stochastic gradient descent.\"\"\"\n",
    "    for param, grad in zip(params, grads):\n",
    "        param.assign_sub(lr*grad / batch_size)"
   ]
  },
  {
   "cell_type": "markdown",
   "id": "6edc54ff-10d8-4f17-9d61-e3323935ede7",
   "metadata": {},
   "source": [
    "## Training \n",
    "\n",
    "In each iteration, we will grab a minibatch of training examples and obtain set of predictions. After calculating the loss we initiate backward pass through network, storing the gradients with respect to each parameter. Finally, we will call the optimization algorithm sgd to update the model parameters.\n",
    "\n",
    "- Initialize parameters $(w, b)$\n",
    "- Repeat until done\n",
    "    - Compute gradient g <- $\\partial_{(w,b)}\\frac{1}{|B|}\\sum l(x^i, y^i, w, b)$\n",
    "    - Update parameters $(w, b) <- (w, b) - \\varphi g$"
   ]
  },
  {
   "cell_type": "code",
   "execution_count": 11,
   "id": "241b4a3d-dcb3-4709-8fcc-24402e5df044",
   "metadata": {},
   "outputs": [
    {
     "name": "stdout",
     "output_type": "stream",
     "text": [
      "epoch = 1, loss = 0.025767\n",
      "epoch = 2, loss = 0.000089\n",
      "epoch = 3, loss = 0.000050\n"
     ]
    }
   ],
   "source": [
    "lr = 0.03\n",
    "num_epochs = 3\n",
    "net = linreg\n",
    "loss = squared_loss\n",
    "\n",
    "for epoch in range(num_epochs):\n",
    "    for X, y in data_iter(batch_size, features, labels):\n",
    "        with tf.GradientTape() as g:\n",
    "            l = loss(net(X, w, b), y)\n",
    "        # Compute gradient on l with respect to ['w', 'b']\n",
    "        dw, db = g.gradient(l, [w, b])\n",
    "        # Update parameters using their gradient\n",
    "        sgd([w, b], [dw, db], lr, batch_size)\n",
    "    train_l = loss(net(features, w, b), labels)\n",
    "    print(f'epoch = {epoch + 1}, loss = {float(tf.reduce_mean(train_l)):f}')"
   ]
  },
  {
   "cell_type": "code",
   "execution_count": null,
   "id": "9919f7e3-41f1-47b1-b8a5-ac03635531cf",
   "metadata": {},
   "outputs": [],
   "source": []
  }
 ],
 "metadata": {
  "kernelspec": {
   "display_name": "Python 3",
   "language": "python",
   "name": "python3"
  },
  "language_info": {
   "codemirror_mode": {
    "name": "ipython",
    "version": 3
   },
   "file_extension": ".py",
   "mimetype": "text/x-python",
   "name": "python",
   "nbconvert_exporter": "python",
   "pygments_lexer": "ipython3",
   "version": "3.9.4"
  }
 },
 "nbformat": 4,
 "nbformat_minor": 5
}
